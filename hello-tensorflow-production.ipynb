{
 "cells": [
  {
   "cell_type": "markdown",
   "metadata": {},
   "source": [
    "# Tensorflow From Scratch\n",
    "#### 3/15/18\n",
    "\n"
   ]
  },
  {
   "cell_type": "code",
   "execution_count": null,
   "metadata": {},
   "outputs": [],
   "source": [
    "import tensorflow as tf\n",
    "import pandas as pd\n",
    "from matplotlib import pyplot as plt"
   ]
  },
  {
   "cell_type": "code",
   "execution_count": null,
   "metadata": {},
   "outputs": [],
   "source": [
    "#read in data\n",
    "iris_train_url = \"http://download.tensorflow.org/data/iris_training.csv\" \n",
    "iris_test_url = \"http://download.tensorflow.org/data/iris_test.csv\"\n",
    "colNames = ['sepal-length', 'sepal-width', 'petal-length', 'petal-width', 'species']  \n",
    "\n",
    "train_data = pd.read_csv(iris_train_url, names=colNames, skiprows=1)  \n",
    "test_data = pd.read_csv(iris_test_url, names=colNames, skiprows=1)  "
   ]
  },
  {
   "cell_type": "code",
   "execution_count": null,
   "metadata": {},
   "outputs": [],
   "source": [
    "train_data.head()"
   ]
  },
  {
   "cell_type": "code",
   "execution_count": null,
   "metadata": {},
   "outputs": [],
   "source": [
    "train_data['species'].head()"
   ]
  },
  {
   "cell_type": "markdown",
   "metadata": {},
   "source": [
    "What is One Hot Encoding?\n",
    "\n",
    "A one hot encoding is a representation of categorical variables as binary vectors.\n",
    "\n",
    "This first requires that the categorical values be mapped to integer values.\n",
    "\n",
    "Then, each integer value is represented as a binary vector that is all zero values except the index of the integer, which is marked with a 1."
   ]
  },
  {
   "cell_type": "code",
   "execution_count": null,
   "metadata": {},
   "outputs": [],
   "source": [
    "encodings = {0: [1, 0, 0], 1: [0, 1, 0], 2: [0, 0, 1]} \n",
    "train_data['species'] = train_data['species'].map(encodings) \n",
    "test_data['species'] = test_data['species'].map(encodings)"
   ]
  },
  {
   "cell_type": "code",
   "execution_count": null,
   "metadata": {},
   "outputs": [],
   "source": [
    "train_data.head()"
   ]
  },
  {
   "cell_type": "code",
   "execution_count": null,
   "metadata": {},
   "outputs": [],
   "source": [
    "train_data['species'].head()"
   ]
  },
  {
   "cell_type": "code",
   "execution_count": null,
   "metadata": {},
   "outputs": [],
   "source": [
    "#separate train data\n",
    "train_x = train_data[['sepal-length', 'sepal-width', 'petal-length', 'petal-width']]\n",
    "train_y = train_data.loc[:, 'species']"
   ]
  },
  {
   "cell_type": "code",
   "execution_count": null,
   "metadata": {},
   "outputs": [],
   "source": [
    "train_x.head()"
   ]
  },
  {
   "cell_type": "code",
   "execution_count": null,
   "metadata": {},
   "outputs": [],
   "source": [
    "train_y.head()"
   ]
  },
  {
   "cell_type": "code",
   "execution_count": null,
   "metadata": {},
   "outputs": [],
   "source": [
    "#separate test data\n",
    "test_x = test_data[['sepal-length', 'sepal-width', 'petal-length', 'petal-width']]\n",
    "test_y = test_data.loc[:, 'species']"
   ]
  },
  {
   "cell_type": "code",
   "execution_count": null,
   "metadata": {},
   "outputs": [],
   "source": [
    "#placeholders for inputs and outputs\n",
    "X = tf.placeholder(tf.float32, [None, 4])\n",
    "Y = tf.placeholder(tf.float32, [None, 3])"
   ]
  },
  {
   "cell_type": "code",
   "execution_count": null,
   "metadata": {},
   "outputs": [],
   "source": [
    "X,Y"
   ]
  },
  {
   "cell_type": "code",
   "execution_count": null,
   "metadata": {},
   "outputs": [],
   "source": [
    "#weight and bias\n",
    "weight = tf.Variable(tf.zeros([4, 3]))\n",
    "bias = tf.Variable(tf.zeros([3]))"
   ]
  },
  {
   "cell_type": "markdown",
   "metadata": {},
   "source": [
    "matmul = Matrix product of two arrays"
   ]
  },
  {
   "cell_type": "markdown",
   "metadata": {},
   "source": [
    "tn.nn = tensorflow neural network"
   ]
  },
  {
   "cell_type": "code",
   "execution_count": null,
   "metadata": {},
   "outputs": [],
   "source": [
    "#output after going activation function\n",
    "output = tf.nn.softmax(tf.matmul(X, weight) + bias)"
   ]
  },
  {
   "cell_type": "code",
   "execution_count": null,
   "metadata": {},
   "outputs": [],
   "source": [
    "#cost function\n",
    "cost = tf.reduce_mean(tf.square(Y-output))"
   ]
  },
  {
   "cell_type": "markdown",
   "metadata": {},
   "source": [
    "AdamOptimizer = \"TensorFlow provides functions to compute the derivatives for a given TensorFlow computation graph, adding operations to the graph.\""
   ]
  },
  {
   "cell_type": "code",
   "execution_count": null,
   "metadata": {},
   "outputs": [],
   "source": [
    "#train model\n",
    "train = tf.train.AdamOptimizer(0.01).minimize(cost)"
   ]
  },
  {
   "cell_type": "markdown",
   "metadata": {},
   "source": [
    "argmax() = Returns the index with the largest value across axes of a tensor. "
   ]
  },
  {
   "cell_type": "code",
   "execution_count": null,
   "metadata": {},
   "outputs": [],
   "source": [
    "#check sucess and failures\n",
    "success = tf.equal(tf.argmax(output, 1), tf.argmax(Y, 1))"
   ]
  },
  {
   "cell_type": "markdown",
   "metadata": {},
   "source": [
    "tf.cast() = Casts a tensor to a new type."
   ]
  },
  {
   "cell_type": "code",
   "execution_count": null,
   "metadata": {},
   "outputs": [],
   "source": [
    "#calculate accuracy\n",
    "accuracy = tf.reduce_mean(tf.cast(success, tf.float32))*100"
   ]
  },
  {
   "cell_type": "code",
   "execution_count": null,
   "metadata": {},
   "outputs": [],
   "source": [
    "#initialize variables\n",
    "init = tf.global_variables_initializer()"
   ]
  },
  {
   "cell_type": "markdown",
   "metadata": {},
   "source": [
    "tf.Session() = A class for running TensorFlow operations."
   ]
  },
  {
   "cell_type": "code",
   "execution_count": null,
   "metadata": {},
   "outputs": [],
   "source": [
    "#start the tensorflow session\n",
    "\n",
    "with tf.Session() as sess:\n",
    "    costs = []\n",
    "    sess.run(init)\n",
    "    #train model 1000 times\n",
    "    for i in range(1000):\n",
    "        _,c = sess.run([train, cost], {X: train_x, Y: [t for t in train_y.as_matrix()]})\n",
    "        \n",
    "        costs.append(c)\n",
    "    print(\"Training finished!\")\n",
    "\n",
    "    #plot cost graph\n",
    "    plt.xkcd() \n",
    "    plt.plot(range(1000), costs)\n",
    "    plt.xlabel('Iterations')\n",
    "    plt.ylabel('Cost')\n",
    "    plt.title(\"Cost Variation\")\n",
    "\n",
    "    plt.show()\n",
    "    print(\"Final accuracy: %.2f\" %accuracy.eval({X: test_x, Y: [t for t in test_y.as_matrix()]}))"
   ]
  },
  {
   "cell_type": "code",
   "execution_count": null,
   "metadata": {},
   "outputs": [],
   "source": [
    "with tf.Session() as sess:\n",
    "    costs = []\n",
    "    sess.run(init)\n",
    "    #train model 1000 times\n",
    "    for i in range(1000):\n",
    "        _,c = sess.run([train, cost], {X: train_x, Y: [t for t in train_y.as_matrix()]})\n",
    "        \n",
    "        costs.append(c)\n",
    "        print(\"Accuracy: %.2f\" %accuracy.eval({X: test_x, Y: [t for t in test_y.as_matrix()]}))\n",
    "\n",
    "    print(\"Training finished!\")"
   ]
  },
  {
   "cell_type": "markdown",
   "metadata": {},
   "source": [
    "##### Adapted from https://towardsdatascience.com/hello-world-in-tensorflow-973e6c38e8ed"
   ]
  },
  {
   "cell_type": "code",
   "execution_count": null,
   "metadata": {},
   "outputs": [],
   "source": []
  }
 ],
 "metadata": {
  "kernelspec": {
   "display_name": "Python 3",
   "language": "python",
   "name": "python3"
  },
  "language_info": {
   "codemirror_mode": {
    "name": "ipython",
    "version": 3
   },
   "file_extension": ".py",
   "mimetype": "text/x-python",
   "name": "python",
   "nbconvert_exporter": "python",
   "pygments_lexer": "ipython3",
   "version": "3.6.4"
  }
 },
 "nbformat": 4,
 "nbformat_minor": 2
}
